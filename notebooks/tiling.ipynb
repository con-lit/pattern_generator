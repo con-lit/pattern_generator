{
 "cells": [
  {
   "cell_type": "code",
   "execution_count": 15,
   "metadata": {},
   "outputs": [
    {
     "name": "stdout",
     "output_type": "stream",
     "text": [
      "115.47005383792515\n",
      "200 173.20508075688772\n"
     ]
    }
   ],
   "source": [
    "import math\n",
    "cell_size = 200\n",
    "cell_width=cell_size\n",
    "\n",
    "r = cell_size/(2*math.cos(math.pi/6))\n",
    "cell_hight=3*cell_size/(4*math.cos(math.pi/6))\n",
    "\n",
    "print(r)\n",
    "print(cell_width, cell_hight)"
   ]
  }
 ],
 "metadata": {
  "kernelspec": {
   "display_name": ".venv",
   "language": "python",
   "name": "python3"
  },
  "language_info": {
   "codemirror_mode": {
    "name": "ipython",
    "version": 3
   },
   "file_extension": ".py",
   "mimetype": "text/x-python",
   "name": "python",
   "nbconvert_exporter": "python",
   "pygments_lexer": "ipython3",
   "version": "3.12.7"
  }
 },
 "nbformat": 4,
 "nbformat_minor": 2
}
